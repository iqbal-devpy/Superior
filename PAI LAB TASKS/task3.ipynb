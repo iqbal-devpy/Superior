{
 "cells": [
  {
   "cell_type": "code",
   "execution_count": null,
   "metadata": {},
   "outputs": [],
   "source": [
    "from collections import deque\n",
    "\n",
    "def water_jug_dfs(x, y, z):\n",
    "    visited = set()\n",
    "    stack = deque([(0, 0, [])])\n",
    "\n",
    "    while stack:\n",
    "        (current_x, current_y, path) = stack.pop()\n",
    "\n",
    "        if current_x == z or current_y == z:\n",
    "            return path + [(current_x, current_y)]\n",
    "\n",
    "        if (current_x, current_y) in visited:\n",
    "            continue\n",
    "\n",
    "        visited.add((current_x, current_y))\n",
    "\n",
    "        next_states = [\n",
    "            (x, current_y, \"fill Jug X\"),\n",
    "            (current_x, y, \"fill Jug Y\"),\n",
    "            (0, current_y, \"empty Jug X\"),\n",
    "            (current_x, 0, \"empty Jug Y\"),\n",
    "            (min(x, current_x + current_y), max(0, current_y - (x - current_x)), \"pour X to Y\"),\n",
    "            (max(0, current_x - (y - current_y)), min(y, current_x + current_y), \"pour Y to X\")\n",
    "        ]\n",
    "\n",
    "        for (next_x, next_y, action) in next_states:\n",
    "            if (next_x, next_y) not in visited:\n",
    "                stack.append((next_x, next_y, path + [(current_x, current_y), (next_x, next_y, action)]))\n",
    "\n",
    "    return None\n",
    "\n",
    "x = 4\n",
    "y = 3\n",
    "z = 2\n",
    "solution_path = water_jug_dfs(x, y, z)\n",
    "solution_path\n"
   ]
  }
 ],
 "metadata": {
  "language_info": {
   "name": "python"
  }
 },
 "nbformat": 4,
 "nbformat_minor": 2
}
