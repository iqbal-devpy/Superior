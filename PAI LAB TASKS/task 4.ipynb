{
 "cells": [
  {
   "cell_type": "code",
   "execution_count": 12,
   "metadata": {},
   "outputs": [
    {
     "name": "stdout",
     "output_type": "stream",
     "text": [
      "Solutions for 7 Queens: 40\n"
     ]
    }
   ],
   "source": [
    "def n_queens_dp(n):\n",
    "    def solve(row, col_mask, left_diag_mask, right_diag_mask):\n",
    "        if row == n:\n",
    "            return 1\n",
    "        \n",
    "        total = 0\n",
    "        available = (~(col_mask | left_diag_mask | right_diag_mask)) & ((1 << n) - 1)\n",
    "        \n",
    "        while available:\n",
    "            curr_pos = available & -available  \n",
    "            available -= curr_pos \n",
    "            col = bin(curr_pos).count('0') - 1  \n",
    "            \n",
    "            total += solve(row + 1,\n",
    "                        col_mask | curr_pos,\n",
    "                        (left_diag_mask | curr_pos) << 1,\n",
    "                        (right_diag_mask | curr_pos) >> 1)\n",
    "        return total\n",
    "    \n",
    "    return solve(0, 0, 0, 0)\n",
    "\n",
    "n = 7\n",
    "print(\"Solutions for\", n, \"Queens:\", n_queens_dp(n))"
   ]
  }
 ],
 "metadata": {
  "kernelspec": {
   "display_name": "Python 3",
   "language": "python",
   "name": "python3"
  },
  "language_info": {
   "codemirror_mode": {
    "name": "ipython",
    "version": 3
   },
   "file_extension": ".py",
   "mimetype": "text/x-python",
   "name": "python",
   "nbconvert_exporter": "python",
   "pygments_lexer": "ipython3",
   "version": "3.12.6"
  }
 },
 "nbformat": 4,
 "nbformat_minor": 2
}
