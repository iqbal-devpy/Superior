{
 "cells": [
  {
   "cell_type": "code",
   "execution_count": 2,
   "metadata": {},
   "outputs": [],
   "source": [
    "# BFS without Queue & without Node\n",
    "def bfs_no_queue(graph, start):\n",
    "    visited = set()\n",
    "    nodes = [start]\n",
    "    while nodes:\n",
    "        node = nodes.pop(0)\n",
    "        if node not in visited:\n",
    "            visited.add(node)\n",
    "            nodes.extend(graph[node])\n",
    "\n",
    "# BFS with Queue & Node\n",
    "from collections import deque\n",
    "\n",
    "class Node:\n",
    "    def __init__(self, value):\n",
    "        self.value = value\n",
    "        self.neighbors = []\n",
    "\n",
    "def bfs_with_queue(start):\n",
    "    queue = deque([start])\n",
    "    visited = set()\n",
    "    while queue:\n",
    "        node = queue.popleft()\n",
    "        if node not in visited:\n",
    "            visited.add(node)\n",
    "            queue.extend(node.neighbors)\n"
   ]
  },
  {
   "cell_type": "code",
   "execution_count": null,
   "metadata": {},
   "outputs": [],
   "source": []
  }
 ],
 "metadata": {
  "kernelspec": {
   "display_name": "Python 3",
   "language": "python",
   "name": "python3"
  },
  "language_info": {
   "codemirror_mode": {
    "name": "ipython",
    "version": 3
   },
   "file_extension": ".py",
   "mimetype": "text/x-python",
   "name": "python",
   "nbconvert_exporter": "python",
   "pygments_lexer": "ipython3",
   "version": "3.12.6"
  }
 },
 "nbformat": 4,
 "nbformat_minor": 2
}
