{
 "cells": [
  {
   "cell_type": "code",
   "execution_count": 1,
   "metadata": {},
   "outputs": [
    {
     "name": "stdout",
     "output_type": "stream",
     "text": [
      "98\n",
      "98 wrong answer game ended\n"
     ]
    }
   ],
   "source": [
    "# FizzBuzz\n",
    "import random\n",
    "def calculate(sequence):\n",
    "    while True:\n",
    "        next_number = sequence[-1] + sequence[-2]\n",
    "        sequence.append(next_number)\n",
    "        return next_number\n",
    "    \n",
    "x =0\n",
    "sequence = []\n",
    "sequence.append(x)\n",
    "while True:\n",
    "    x = random.randint(1,100)\n",
    "    sequence.append(x) \n",
    "    print(x)\n",
    "    y = calculate(sequence)\n",
    "    z = input(\"is it fizz or buzz or fizzbuzz\").lower()\n",
    "    if y % 3 == 0 and y % 5 != 0 and z == \"fizz\":\n",
    "        print(y,'correct')\n",
    "    elif y % 5 == 0 and y % 3 != 0 and z == 'buzz':\n",
    "        print(y,'correct')\n",
    "    elif y % 3 == 0 and y % 5 == 0 and z == 'fizzbuzz':\n",
    "        print('correct')\n",
    "    else:\n",
    "        print(y,'wrong answer game ended')\n",
    "        break"
   ]
  },
  {
   "cell_type": "code",
   "execution_count": 2,
   "metadata": {},
   "outputs": [
    {
     "name": "stdout",
     "output_type": "stream",
     "text": [
      "The Average Budget is 167312500.0\n",
      "Pirates of the Caribbean: On Stranger Tides has a budget higher of 211687500.0 than the average budget\n",
      "Avengers: Age of Ultron has a budget higher of 197687500.0 than the average budget\n",
      "Avengers: Endgame has a budget higher of 188687500.0 than the average budget\n",
      "Incredibles 2 has a budget higher of 32687500.0 than the average budget\n"
     ]
    }
   ],
   "source": [
    "#eda\n",
    "\n",
    "movies = [\n",
    "    (\"Eternal Sunshine of the Spotless Mind\", 20000000),\n",
    "    (\"Memento\", 9000000),\n",
    "    (\"Requiem for a Dream\", 4500000),\n",
    "    (\"Pirates of the Caribbean: On Stranger Tides\", 379000000),\n",
    "    (\"Avengers: Age of Ultron\", 365000000),\n",
    "    (\"Avengers: Endgame\", 356000000),\n",
    "    (\"Incredibles 2\", 200000000)\n",
    "]\n",
    "def add_movies(movies):\n",
    "    movie_name = input('Please enter the movie name')\n",
    "    budget= int(input('please enter the budget'))\n",
    "    movies.append((movie_name, budget))\n",
    "\n",
    "add_movies(movies)\n",
    "    \n",
    "budget=[]\n",
    "def Budget(movie):\n",
    "    for movie in movies:\n",
    "        budget.append(movie[-1])\n",
    "Budget(movies)\n",
    "def avg_budget(budget):\n",
    "    return sum(budget) / len(budget)\n",
    "\n",
    "x = avg_budget(budget)\n",
    "print(f'The Average Budget is {x}')\n",
    "for movie in movies:\n",
    "    if movie[-1] > x:\n",
    "        print(f\"{movie[0]} has a budget higher of {movie[-1]-x} than the average budget\")"
   ]
  },
  {
   "cell_type": "code",
   "execution_count": null,
   "metadata": {},
   "outputs": [],
   "source": []
  }
 ],
 "metadata": {
  "kernelspec": {
   "display_name": "Python 3",
   "language": "python",
   "name": "python3"
  },
  "language_info": {
   "codemirror_mode": {
    "name": "ipython",
    "version": 3
   },
   "file_extension": ".py",
   "mimetype": "text/x-python",
   "name": "python",
   "nbconvert_exporter": "python",
   "pygments_lexer": "ipython3",
   "version": "3.12.6"
  }
 },
 "nbformat": 4,
 "nbformat_minor": 2
}
