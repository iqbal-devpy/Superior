{
 "cells": [
  {
   "cell_type": "code",
   "execution_count": 1,
   "metadata": {},
   "outputs": [
    {
     "name": "stdout",
     "output_type": "stream",
     "text": [
      "            date      price  bedrooms  bathrooms  sqft_living  sqft_lot  \\\n",
      "0  5/2/2014 0:00   313000.0       3.0       1.50       1340.0    7912.0   \n",
      "1  5/2/2014 0:00  2384000.0       5.0       2.50       3650.0    9050.0   \n",
      "2  5/2/2014 0:00   342000.0       3.0       2.00       1930.0   11947.0   \n",
      "3  5/2/2014 0:00   420000.0       3.0       2.25       2000.0    8030.0   \n",
      "4  5/2/2014 0:00   550000.0       4.0       2.50       1940.0   10500.0   \n",
      "\n",
      "   floors  waterfront  view  condition  sqft_above  sqft_basement  yr_built  \\\n",
      "0     1.5         0.0   0.0          3      1340.0            0.0    1955.0   \n",
      "1     2.0         0.0   4.0          5      3370.0          280.0    1921.0   \n",
      "2     1.0         0.0   0.0          4      1930.0            0.0    1966.0   \n",
      "3     1.0         0.0   0.0          4      1000.0         1000.0    1963.0   \n",
      "4     1.0         0.0   0.0          4      1140.0          800.0    1976.0   \n",
      "\n",
      "   yr_renovated                    street       city  statezip country  \n",
      "0          2005      18810 Densmore Ave N  Shoreline  WA 98133     USA  \n",
      "1             0           709 W Blaine St    Seattle  WA 98119     USA  \n",
      "2             0  26206-26214 143rd Ave SE       Kent  WA 98042     USA  \n",
      "3             0           857 170th Pl NE   Bellevue  WA 98008     USA  \n",
      "4          1992         9105 170th Ave NE    Redmond  WA 98052     USA  \n"
     ]
    }
   ],
   "source": [
    "import pandas as pd\n",
    "\n",
    "data = pd.read_csv('data.csv')  \n",
    "\n",
    "print(data.head())\n"
   ]
  },
  {
   "cell_type": "code",
   "execution_count": 2,
   "metadata": {},
   "outputs": [
    {
     "name": "stdout",
     "output_type": "stream",
     "text": [
      "<class 'pandas.core.frame.DataFrame'>\n",
      "RangeIndex: 4600 entries, 0 to 4599\n",
      "Data columns (total 18 columns):\n",
      " #   Column         Non-Null Count  Dtype  \n",
      "---  ------         --------------  -----  \n",
      " 0   date           4600 non-null   object \n",
      " 1   price          4597 non-null   float64\n",
      " 2   bedrooms       4595 non-null   float64\n",
      " 3   bathrooms      4598 non-null   float64\n",
      " 4   sqft_living    4598 non-null   float64\n",
      " 5   sqft_lot       4598 non-null   float64\n",
      " 6   floors         4598 non-null   float64\n",
      " 7   waterfront     4595 non-null   float64\n",
      " 8   view           4598 non-null   float64\n",
      " 9   condition      4600 non-null   int64  \n",
      " 10  sqft_above     4597 non-null   float64\n",
      " 11  sqft_basement  4597 non-null   float64\n",
      " 12  yr_built       4594 non-null   float64\n",
      " 13  yr_renovated   4600 non-null   int64  \n",
      " 14  street         4597 non-null   object \n",
      " 15  city           4596 non-null   object \n",
      " 16  statezip       4597 non-null   object \n",
      " 17  country        4594 non-null   object \n",
      "dtypes: float64(11), int64(2), object(5)\n",
      "memory usage: 647.0+ KB\n",
      "None\n",
      "Shape: (4600, 18)\n",
      "Missing Values:\n",
      " date             0\n",
      "price            3\n",
      "bedrooms         5\n",
      "bathrooms        2\n",
      "sqft_living      2\n",
      "sqft_lot         2\n",
      "floors           2\n",
      "waterfront       5\n",
      "view             2\n",
      "condition        0\n",
      "sqft_above       3\n",
      "sqft_basement    3\n",
      "yr_built         6\n",
      "yr_renovated     0\n",
      "street           3\n",
      "city             4\n",
      "statezip         3\n",
      "country          6\n",
      "dtype: int64\n"
     ]
    }
   ],
   "source": [
    "print(data.info())\n",
    "\n",
    "print(\"Shape:\", data.shape)\n",
    "\n",
    "print(\"Missing Values:\\n\", data.isnull().sum())\n"
   ]
  },
  {
   "cell_type": "code",
   "execution_count": 3,
   "metadata": {},
   "outputs": [
    {
     "name": "stdout",
     "output_type": "stream",
     "text": [
      "              price     bedrooms    bathrooms   sqft_living      sqft_lot  \\\n",
      "count  4.597000e+03  4595.000000  4598.000000   4598.000000  4.598000e+03   \n",
      "mean   5.521190e+05     3.401088     2.160668   2139.498913  1.485607e+04   \n",
      "std    5.639834e+05     0.908983     0.783920    963.387024  3.589177e+04   \n",
      "min    0.000000e+00     0.000000     0.000000    370.000000  6.380000e+02   \n",
      "25%    3.238333e+05     3.000000     1.750000   1460.000000  5.001000e+03   \n",
      "50%    4.610000e+05     3.000000     2.250000   1980.000000  7.683000e+03   \n",
      "75%    6.550000e+05     4.000000     2.500000   2620.000000  1.100375e+04   \n",
      "max    2.659000e+07     9.000000     8.000000  13540.000000  1.074218e+06   \n",
      "\n",
      "            floors   waterfront         view    condition   sqft_above  \\\n",
      "count  4598.000000  4595.000000  4598.000000  4600.000000  4597.000000   \n",
      "mean      1.511853     0.007182     0.240757     3.451739  1827.509463   \n",
      "std       0.537905     0.084449     0.778558     0.677230   862.138540   \n",
      "min       1.000000     0.000000     0.000000     1.000000   370.000000   \n",
      "25%       1.000000     0.000000     0.000000     3.000000  1190.000000   \n",
      "50%       1.500000     0.000000     0.000000     3.000000  1590.000000   \n",
      "75%       2.000000     0.000000     0.000000     4.000000  2300.000000   \n",
      "max       3.500000     1.000000     4.000000     5.000000  9410.000000   \n",
      "\n",
      "       sqft_basement     yr_built  yr_renovated  \n",
      "count    4597.000000  4594.000000   4600.000000  \n",
      "mean      312.122036  1970.799086    808.608261  \n",
      "std       464.228562    29.740666    979.414536  \n",
      "min         0.000000  1900.000000      0.000000  \n",
      "25%         0.000000  1951.000000      0.000000  \n",
      "50%         0.000000  1976.000000      0.000000  \n",
      "75%       610.000000  1997.000000   1999.000000  \n",
      "max      4820.000000  2014.000000   2014.000000  \n"
     ]
    }
   ],
   "source": [
    "print(data.describe())\n"
   ]
  },
  {
   "cell_type": "code",
   "execution_count": 4,
   "metadata": {},
   "outputs": [
    {
     "name": "stdout",
     "output_type": "stream",
     "text": [
      "Columns: Index(['date', 'price', 'bedrooms', 'bathrooms', 'sqft_living', 'sqft_lot',\n",
      "       'floors', 'waterfront', 'view', 'condition', 'sqft_above',\n",
      "       'sqft_basement', 'yr_built', 'yr_renovated', 'street', 'city',\n",
      "       'statezip', 'country'],\n",
      "      dtype='object')\n"
     ]
    }
   ],
   "source": [
    "print(\"Columns:\", data.columns)\n"
   ]
  },
  {
   "cell_type": "code",
   "execution_count": 5,
   "metadata": {},
   "outputs": [
    {
     "name": "stdout",
     "output_type": "stream",
     "text": [
      "Number of duplicate rows: 0\n"
     ]
    }
   ],
   "source": [
    "duplicates = data.duplicated().sum()\n",
    "print(f\"Number of duplicate rows: {duplicates}\")\n"
   ]
  },
  {
   "cell_type": "code",
   "execution_count": 7,
   "metadata": {},
   "outputs": [
    {
     "name": "stdout",
     "output_type": "stream",
     "text": [
      "price\n",
      "0.0000         49\n",
      "300000.0000    42\n",
      "400000.0000    31\n",
      "440000.0000    29\n",
      "600000.0000    29\n",
      "               ..\n",
      "278900.0000     1\n",
      "171758.3333     1\n",
      "325187.5000     1\n",
      "190368.7500     1\n",
      "292600.0000     1\n",
      "Name: count, Length: 1738, dtype: int64\n"
     ]
    }
   ],
   "source": [
    "print(data['price'].value_counts())  \n"
   ]
  }
 ],
 "metadata": {
  "kernelspec": {
   "display_name": "goldPrice_Prediction",
   "language": "python",
   "name": "python3"
  },
  "language_info": {
   "codemirror_mode": {
    "name": "ipython",
    "version": 3
   },
   "file_extension": ".py",
   "mimetype": "text/x-python",
   "name": "python",
   "nbconvert_exporter": "python",
   "pygments_lexer": "ipython3",
   "version": "3.12.6"
  }
 },
 "nbformat": 4,
 "nbformat_minor": 2
}
