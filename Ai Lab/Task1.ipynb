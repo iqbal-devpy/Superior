{
 "cells": [
  {
   "cell_type": "code",
   "execution_count": 1,
   "metadata": {},
   "outputs": [
    {
     "name": "stdout",
     "output_type": "stream",
     "text": [
      "The result of '1 + 2 * 3 * (4 - 5 / 4) - (3 / 5)' is 16.9\n"
     ]
    }
   ],
   "source": [
    "#Dynamic calculator\n",
    "import re\n",
    "\n",
    "def tokenize(expression):\n",
    "    tokens = re.findall(r'\\d+\\.?\\d*|[+\\-*/()]', expression)\n",
    "    return tokens\n",
    "\n",
    "def infix_to_postfix(tokens):\n",
    "    precedence = {'+': 1, '-': 1, '*': 2, '/': 2}\n",
    "    output = []\n",
    "    operators = []\n",
    "    for token in tokens:\n",
    "        if token.isdigit() or '.' in token: \n",
    "            output.append(token)\n",
    "        elif token in precedence:  \n",
    "            while (operators and operators[-1] != '(' and\n",
    "                precedence[operators[-1]] >= precedence[token]):\n",
    "                output.append(operators.pop())\n",
    "            operators.append(token)\n",
    "        elif token == '(':  \n",
    "            operators.append(token)\n",
    "        elif token == ')': \n",
    "            while operators and operators[-1] != '(':\n",
    "                output.append(operators.pop())\n",
    "            operators.pop()  \n",
    "    while operators:\n",
    "        output.append(operators.pop())\n",
    "    return output\n",
    "\n",
    "def evaluate_postfix(expression):\n",
    "    stack = []\n",
    "\n",
    "    for token in expression:\n",
    "        if token.isdigit() or '.' in token: \n",
    "            stack.append(float(token))\n",
    "        else:  \n",
    "            b = stack.pop()\n",
    "            a = stack.pop()\n",
    "\n",
    "            if token == '+':\n",
    "                stack.append(a + b)\n",
    "            elif token == '-':\n",
    "                stack.append(a - b)\n",
    "            elif token == '*':\n",
    "                stack.append(a * b)\n",
    "            elif token == '/':\n",
    "                stack.append(a / b)\n",
    "\n",
    "    return stack[0] \n",
    "\n",
    "def calculate(expression, variables={}):\n",
    "    tokens = tokenize(expression)\n",
    "    tokens = [str(variables.get(token, token)) for token in tokens]\n",
    "    postfix = infix_to_postfix(tokens)\n",
    "    result = evaluate_postfix(postfix)\n",
    "    return result\n",
    "\n",
    "\n",
    "expression = \"1 + 2 * 3 * (4 - 5 / 4) - (3 / 5)\"\n",
    "result = calculate(expression)\n",
    "print(f\"The result of '{expression}' is {result}\")\n"
   ]
  },
  {
   "cell_type": "code",
   "execution_count": null,
   "metadata": {},
   "outputs": [],
   "source": []
  }
 ],
 "metadata": {
  "kernelspec": {
   "display_name": "Python 3",
   "language": "python",
   "name": "python3"
  },
  "language_info": {
   "codemirror_mode": {
    "name": "ipython",
    "version": 3
   },
   "file_extension": ".py",
   "mimetype": "text/x-python",
   "name": "python",
   "nbconvert_exporter": "python",
   "pygments_lexer": "ipython3",
   "version": "3.12.6"
  }
 },
 "nbformat": 4,
 "nbformat_minor": 2
}
