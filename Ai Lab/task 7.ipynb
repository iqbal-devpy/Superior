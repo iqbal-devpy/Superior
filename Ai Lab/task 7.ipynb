{
 "cells": [
  {
   "cell_type": "code",
   "execution_count": 2,
   "metadata": {},
   "outputs": [],
   "source": [
    "class Node:\n",
    "    def __init__(self, position, parent=None):\n",
    "        self.position = position\n",
    "        self.parent = parent\n",
    "        self.g = 0  \n",
    "        self.h = 0  \n",
    "        self.f = 0  \n",
    "\n",
    "def a_star(maze, start, end):\n",
    "    open_list = []\n",
    "    closed_list = set()\n",
    "\n",
    "    start_node = Node(start)\n",
    "    end_node = Node(end)\n",
    "    open_list.append(start_node)\n",
    "\n",
    "    while open_list:\n",
    "        current_node = min(open_list, key=lambda node: node.f)\n",
    "        open_list.remove(current_node)\n",
    "        closed_list.add(current_node.position)\n",
    "\n",
    "        if current_node.position == end_node.position:\n",
    "            path = []\n",
    "            while current_node:\n",
    "                path.append(current_node.position)\n",
    "                current_node = current_node.parent\n",
    "            return path[::-1]  \n",
    "\n",
    "        neighbors = [(0, -1), (-1, 0), (0, 1), (1, 0)]  \n",
    "        for offset in neighbors:\n",
    "            neighbor_pos = (current_node.position[0] + offset[0], current_node.position[1] + offset[1])\n",
    "\n",
    "            if not (0 <= neighbor_pos[0] < len(maze) and 0 <= neighbor_pos[1] < len(maze[0])):\n",
    "                continue\n",
    "            if maze[neighbor_pos[0]][neighbor_pos[1]] == 1 or neighbor_pos in closed_list:\n",
    "                continue\n",
    "\n",
    "            neighbor_node = Node(neighbor_pos, current_node)\n",
    "            neighbor_node.g = current_node.g + 1\n",
    "            neighbor_node.h = abs(neighbor_node.position[0] - end_node.position[0]) + abs(neighbor_node.position[1] - end_node.position[1])\n",
    "            neighbor_node.f = neighbor_node.g + neighbor_node.h\n",
    "\n",
    "            if any(open_node.position == neighbor_node.position and open_node.f <= neighbor_node.f for open_node in open_list):\n",
    "                continue\n",
    "\n",
    "            open_list.append(neighbor_node)\n",
    "    return None\n"
   ]
  },
  {
   "cell_type": "code",
   "execution_count": null,
   "metadata": {},
   "outputs": [],
   "source": []
  }
 ],
 "metadata": {
  "kernelspec": {
   "display_name": "Python 3",
   "language": "python",
   "name": "python3"
  },
  "language_info": {
   "codemirror_mode": {
    "name": "ipython",
    "version": 3
   },
   "file_extension": ".py",
   "mimetype": "text/x-python",
   "name": "python",
   "nbconvert_exporter": "python",
   "pygments_lexer": "ipython3",
   "version": "3.12.6"
  }
 },
 "nbformat": 4,
 "nbformat_minor": 2
}
