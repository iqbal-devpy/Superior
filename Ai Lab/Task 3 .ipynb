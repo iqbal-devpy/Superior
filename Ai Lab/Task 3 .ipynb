{
 "cells": [
  {
   "cell_type": "code",
   "execution_count": 1,
   "metadata": {},
   "outputs": [
    {
     "name": "stdout",
     "output_type": "stream",
     "text": [
      "Living room: Temp=28, Humidity=60 ==> Actions: Turn off the heater, Turn on the dehumidifier\n",
      "Bedroom: Temp=18, Humidity=45 ==> Actions: Turn on the heater, Turn off the dehumidifier\n",
      "Kitchen: Temp=32, Humidity=55 ==> Actions: Turn off the heater, Turn on the dehumidifier\n"
     ]
    }
   ],
   "source": [
    "#Multi reflex agent\n",
    "class MultiReflexAgent:\n",
    "    def __init__(self, desired_temp, desired_humidity):\n",
    "        self.desired_temp = desired_temp\n",
    "        self.desired_humidity = desired_humidity\n",
    "\n",
    "    def percept(self, temp, humidity):\n",
    "        self.current_temp = temp\n",
    "        self.current_humidity = humidity\n",
    "\n",
    "    def act(self):\n",
    "        actions = []\n",
    "\n",
    "        if self.current_temp > self.desired_temp:\n",
    "            actions.append(\"Turn off the heater\")\n",
    "        else:\n",
    "            actions.append(\"Turn on the heater\")\n",
    "\n",
    "        if self.current_humidity > self.desired_humidity:\n",
    "            actions.append(\"Turn on the dehumidifier\")\n",
    "        else:\n",
    "            actions.append(\"Turn off the dehumidifier\")\n",
    "\n",
    "        return actions\n",
    "\n",
    "\n",
    "agent = MultiReflexAgent(desired_temp=22, desired_humidity=50)\n",
    "\n",
    "rooms = {\n",
    "    \"Living room\": {\"temp\": 28, \"humidity\": 60},\n",
    "    \"Bedroom\": {\"temp\": 18, \"humidity\": 45},\n",
    "    \"Kitchen\": {\"temp\": 32, \"humidity\": 55}\n",
    "}\n",
    "\n",
    "for room, conditions in rooms.items():\n",
    "    agent.percept(conditions['temp'], conditions['humidity'])\n",
    "    actions = agent.act()\n",
    "    print(f\"{room}: Temp={conditions['temp']}, Humidity={conditions['humidity']} ==> Actions: {', '.join(actions)}\")\n"
   ]
  },
  {
   "cell_type": "code",
   "execution_count": null,
   "metadata": {},
   "outputs": [],
   "source": []
  }
 ],
 "metadata": {
  "kernelspec": {
   "display_name": "Python 3",
   "language": "python",
   "name": "python3"
  },
  "language_info": {
   "codemirror_mode": {
    "name": "ipython",
    "version": 3
   },
   "file_extension": ".py",
   "mimetype": "text/x-python",
   "name": "python",
   "nbconvert_exporter": "python",
   "pygments_lexer": "ipython3",
   "version": "3.12.6"
  }
 },
 "nbformat": 4,
 "nbformat_minor": 2
}
