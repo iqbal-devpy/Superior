{
 "cells": [
  {
   "cell_type": "code",
   "execution_count": 1,
   "metadata": {},
   "outputs": [
    {
     "name": "stdout",
     "output_type": "stream",
     "text": [
      "valid\n"
     ]
    }
   ],
   "source": [
    "# LUHN\n",
    "def LUHN(card_number):\n",
    "    card_number = list(card_number)  \n",
    "    card_number = [int(digit) for digit in card_number]  \n",
    "    \n",
    "    for i in range(len(card_number) - 2, -1, -2):\n",
    "        card_number[i] *= 2 \n",
    "        if card_number[i] > 9:\n",
    "            card_number[i] -= 9  \n",
    "    \n",
    "    if sum(card_number) % 10 == 0:\n",
    "        print(\"valid\")\n",
    "    else:\n",
    "        print(\"invalid\")\n",
    "\n",
    "card_number = '4539148803436467'\n",
    "LUHN(card_number)"
   ]
  },
  {
   "cell_type": "code",
   "execution_count": 2,
   "metadata": {},
   "outputs": [
    {
     "name": "stdout",
     "output_type": "stream",
     "text": [
      "AhmedShah\n"
     ]
    }
   ],
   "source": [
    "punctuation = \"!\\\"#$%&'()*+,-./:;<=>?@[]^_`{|\"\n",
    "\n",
    "def punc_remove(string):\n",
    "    for i in punctuation:\n",
    "        if i in string:\n",
    "            string = string.replace(i, \"\")\n",
    "    return string \n",
    "\n",
    "string = 'Ahmed,Shah'\n",
    "cleaned_string = punc_remove(string)\n",
    "print(cleaned_string)\n"
   ]
  },
  {
   "cell_type": "code",
   "execution_count": 3,
   "metadata": {},
   "outputs": [
    {
     "name": "stdout",
     "output_type": "stream",
     "text": [
      "Sorted words: ['Banana', 'apple', 'cherry', 'date', 'fig', 'grape']\n"
     ]
    }
   ],
   "source": [
    "def bubble_sort(words):\n",
    "    for i in range(len(words)):\n",
    "        for j in range(0, len(words)-i-1):\n",
    "            if words[j] > words[j+1]:\n",
    "                words[j], words[j+1] = words[j+1], words[j]\n",
    "    return words\n",
    "\n",
    "words = [\"apple\", \"Banana\", \"cherry\", \"date\", \"fig\", \"grape\"]\n",
    "sorted_words = bubble_sort(words)\n",
    "print(\"Sorted words:\", sorted_words)\n"
   ]
  },
  {
   "cell_type": "code",
   "execution_count": null,
   "metadata": {},
   "outputs": [],
   "source": []
  }
 ],
 "metadata": {
  "kernelspec": {
   "display_name": "Python 3",
   "language": "python",
   "name": "python3"
  },
  "language_info": {
   "codemirror_mode": {
    "name": "ipython",
    "version": 3
   },
   "file_extension": ".py",
   "mimetype": "text/x-python",
   "name": "python",
   "nbconvert_exporter": "python",
   "pygments_lexer": "ipython3",
   "version": "3.12.6"
  }
 },
 "nbformat": 4,
 "nbformat_minor": 2
}
